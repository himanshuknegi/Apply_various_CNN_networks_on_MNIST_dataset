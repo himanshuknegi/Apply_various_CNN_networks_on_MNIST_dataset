{
  "nbformat": 4,
  "nbformat_minor": 0,
  "metadata": {
    "colab": {
      "name": "Try_various_CNN_networks_on_MNIST_dataset (1).ipynb",
      "version": "0.3.2",
      "provenance": [],
      "collapsed_sections": []
    },
    "kernelspec": {
      "display_name": "Python 3",
      "language": "python",
      "name": "python3"
    }
  },
  "cells": [
    {
      "metadata": {
        "colab_type": "text",
        "id": "jGiWaCvViVZ2"
      },
      "cell_type": "markdown",
      "source": [
        "# OBJECTIVE :- Try various CNN networks on MNIST dataset"
      ]
    },
    {
      "metadata": {
        "colab_type": "code",
        "id": "UgzYyxYQiLHd",
        "outputId": "9d38073a-9114-4f8d-c5e8-3c54bab72614",
        "colab": {
          "base_uri": "https://localhost:8080/",
          "height": 34
        }
      },
      "cell_type": "code",
      "source": [
        "# Importing libraries\n",
        "from __future__ import print_function\n",
        "import keras\n",
        "from keras.datasets import mnist\n",
        "from keras.models import Sequential\n",
        "from keras.layers import Dense, Dropout, Flatten\n",
        "from keras.layers import Conv2D, MaxPooling2D\n",
        "from keras import backend as K\n",
        "from keras.initializers import he_normal\n",
        "from keras.layers.normalization import BatchNormalization\n",
        "import numpy as np\n",
        "import matplotlib.pyplot as plt\n",
        "%matplotlib inline\n",
        "\n",
        "batch_size = 128\n",
        "num_classes = 10\n",
        "epochs = 12\n",
        "\n",
        "# input image dimensions\n",
        "img_rows, img_cols = 28, 28\n",
        "\n",
        "# the data, split between train and test sets\n",
        "(x_train, y_train), (x_test, y_test) = mnist.load_data()"
      ],
      "execution_count": 1,
      "outputs": [
        {
          "output_type": "stream",
          "text": [
            "Using TensorFlow backend.\n"
          ],
          "name": "stderr"
        }
      ]
    },
    {
      "metadata": {
        "colab_type": "code",
        "id": "KM-RleX0lB4h",
        "outputId": "092d3b2f-3d70-47c0-adcd-015235be761e",
        "colab": {
          "base_uri": "https://localhost:8080/",
          "height": 68
        }
      },
      "cell_type": "code",
      "source": [
        "if K.image_data_format() == 'channels_first':\n",
        "    x_train = x_train.reshape(x_train.shape[0], 1, img_rows, img_cols)\n",
        "    x_test = x_test.reshape(x_test.shape[0], 1, img_rows, img_cols)\n",
        "    input_shape = (1, img_rows, img_cols)\n",
        "else:\n",
        "    x_train = x_train.reshape(x_train.shape[0], img_rows, img_cols, 1)\n",
        "    x_test = x_test.reshape(x_test.shape[0], img_rows, img_cols, 1)\n",
        "    input_shape = (img_rows, img_cols, 1)\n",
        "\n",
        "x_train = x_train.astype('float32')\n",
        "x_test = x_test.astype('float32')\n",
        "x_train /= 255\n",
        "x_test /= 255\n",
        "print('x_train shape:', x_train.shape)\n",
        "print(x_train.shape[0], 'train samples')\n",
        "print(x_test.shape[0], 'test samples')\n",
        "\n",
        "# convert class vectors to binary class matrices\n",
        "y_train = keras.utils.to_categorical(y_train, num_classes)\n",
        "y_test = keras.utils.to_categorical(y_test, num_classes)"
      ],
      "execution_count": 2,
      "outputs": [
        {
          "output_type": "stream",
          "text": [
            "x_train shape: (60000, 28, 28, 1)\n",
            "60000 train samples\n",
            "10000 test samples\n"
          ],
          "name": "stdout"
        }
      ]
    },
    {
      "metadata": {
        "colab_type": "code",
        "id": "Iu-Ut3M8lX6S",
        "colab": {}
      },
      "cell_type": "code",
      "source": [
        "# this function is used draw Categorical Crossentropy Loss VS No. of epochs plot\n",
        "def plt_dynamic(x, vy, ty):\n",
        "  plt.figure(figsize=(15,8))\n",
        "  plt.plot(x, vy, 'g', label=\"Validation Loss\")\n",
        "  plt.plot(x, ty, 'r', label=\"Train Loss\")\n",
        "  plt.xlabel('Epochs') \n",
        "  plt.ylabel('Categorical Crossentropy Loss')\n",
        "  plt.title('\\nCategorical Crossentropy Loss VS Epochs')\n",
        "  plt.legend()\n",
        "  plt.grid()\n",
        "  plt.show()"
      ],
      "execution_count": 0,
      "outputs": []
    },
    {
      "metadata": {
        "colab_type": "text",
        "id": "u5FpsbN8lpzH"
      },
      "cell_type": "markdown",
      "source": [
        "## (1). CNN with 3 Convolutional layers and kernel size - (3X3)"
      ]
    },
    {
      "metadata": {
        "colab_type": "code",
        "id": "t6hMsU6Vlm5E",
        "outputId": "1735cde7-ddea-48c4-eee0-6a2a3e15eda3",
        "colab": {
          "base_uri": "https://localhost:8080/",
          "height": 1125
        }
      },
      "cell_type": "code",
      "source": [
        "# Initialising the model\n",
        "model_3 = Sequential()\n",
        "\n",
        "# Adding first conv layer\n",
        "model_3.add(Conv2D(32, kernel_size=(3, 3),activation='relu',input_shape=input_shape))\n",
        "\n",
        "# Adding second conv layer\n",
        "model_3.add(Conv2D(64, (3, 3), activation='relu'))\n",
        "\n",
        "# Adding Maxpooling layer\n",
        "model_3.add(MaxPooling2D(pool_size=(2, 2)))\n",
        "\n",
        "# Adding Dropout\n",
        "model_3.add(Dropout(0.3))\n",
        "\n",
        "# Adding third conv layer\n",
        "model_3.add(Conv2D(128, (3, 3), activation='relu'))\n",
        "\n",
        "# Adding Maxpooling layer\n",
        "model_3.add(MaxPooling2D(pool_size=(2, 2)))\n",
        "\n",
        "# Adding Dropout\n",
        "model_3.add(Dropout(0.3))\n",
        "\n",
        "# Adding flatten layer\n",
        "model_3.add(Flatten())\n",
        "\n",
        "# Adding first hidden layer\n",
        "model_3.add(Dense(256, activation='relu',kernel_initializer=he_normal(seed=None)))\n",
        "\n",
        "# Adding Dropout\n",
        "model_3.add(Dropout(0.3))\n",
        "\n",
        "# Adding output layer\n",
        "model_3.add(Dense(num_classes, activation='softmax'))\n",
        "\n",
        "# Printing model Summary\n",
        "print(model_3.summary())\n",
        "\n",
        "# Compiling the model\n",
        "model_3.compile(optimizer='adam', loss='categorical_crossentropy', metrics=['accuracy'])\n",
        "\n",
        "# Fitting the data to the model\n",
        "history_3 = model_3.fit(x_train, y_train,batch_size=batch_size,epochs=epochs,verbose=1,validation_data=(x_test, y_test))"
      ],
      "execution_count": 4,
      "outputs": [
        {
          "output_type": "stream",
          "text": [
            "WARNING:tensorflow:From /usr/local/lib/python3.6/dist-packages/tensorflow/python/framework/op_def_library.py:263: colocate_with (from tensorflow.python.framework.ops) is deprecated and will be removed in a future version.\n",
            "Instructions for updating:\n",
            "Colocations handled automatically by placer.\n",
            "WARNING:tensorflow:From /usr/local/lib/python3.6/dist-packages/keras/backend/tensorflow_backend.py:3445: calling dropout (from tensorflow.python.ops.nn_ops) with keep_prob is deprecated and will be removed in a future version.\n",
            "Instructions for updating:\n",
            "Please use `rate` instead of `keep_prob`. Rate should be set to `rate = 1 - keep_prob`.\n",
            "_________________________________________________________________\n",
            "Layer (type)                 Output Shape              Param #   \n",
            "=================================================================\n",
            "conv2d_1 (Conv2D)            (None, 26, 26, 32)        320       \n",
            "_________________________________________________________________\n",
            "conv2d_2 (Conv2D)            (None, 24, 24, 64)        18496     \n",
            "_________________________________________________________________\n",
            "max_pooling2d_1 (MaxPooling2 (None, 12, 12, 64)        0         \n",
            "_________________________________________________________________\n",
            "dropout_1 (Dropout)          (None, 12, 12, 64)        0         \n",
            "_________________________________________________________________\n",
            "conv2d_3 (Conv2D)            (None, 10, 10, 128)       73856     \n",
            "_________________________________________________________________\n",
            "max_pooling2d_2 (MaxPooling2 (None, 5, 5, 128)         0         \n",
            "_________________________________________________________________\n",
            "dropout_2 (Dropout)          (None, 5, 5, 128)         0         \n",
            "_________________________________________________________________\n",
            "flatten_1 (Flatten)          (None, 3200)              0         \n",
            "_________________________________________________________________\n",
            "dense_1 (Dense)              (None, 256)               819456    \n",
            "_________________________________________________________________\n",
            "dropout_3 (Dropout)          (None, 256)               0         \n",
            "_________________________________________________________________\n",
            "dense_2 (Dense)              (None, 10)                2570      \n",
            "=================================================================\n",
            "Total params: 914,698\n",
            "Trainable params: 914,698\n",
            "Non-trainable params: 0\n",
            "_________________________________________________________________\n",
            "None\n",
            "WARNING:tensorflow:From /usr/local/lib/python3.6/dist-packages/tensorflow/python/ops/math_ops.py:3066: to_int32 (from tensorflow.python.ops.math_ops) is deprecated and will be removed in a future version.\n",
            "Instructions for updating:\n",
            "Use tf.cast instead.\n",
            "Train on 60000 samples, validate on 10000 samples\n",
            "Epoch 1/12\n",
            "60000/60000 [==============================] - 230s 4ms/step - loss: 0.1859 - acc: 0.9406 - val_loss: 0.0391 - val_acc: 0.9872\n",
            "Epoch 2/12\n",
            "60000/60000 [==============================] - 229s 4ms/step - loss: 0.0570 - acc: 0.9822 - val_loss: 0.0315 - val_acc: 0.9899\n",
            "Epoch 3/12\n",
            "60000/60000 [==============================] - 229s 4ms/step - loss: 0.0419 - acc: 0.9867 - val_loss: 0.0244 - val_acc: 0.9921\n",
            "Epoch 4/12\n",
            "60000/60000 [==============================] - 229s 4ms/step - loss: 0.0332 - acc: 0.9899 - val_loss: 0.0254 - val_acc: 0.9925\n",
            "Epoch 5/12\n",
            "60000/60000 [==============================] - 228s 4ms/step - loss: 0.0302 - acc: 0.9903 - val_loss: 0.0208 - val_acc: 0.9940\n",
            "Epoch 6/12\n",
            "60000/60000 [==============================] - 229s 4ms/step - loss: 0.0260 - acc: 0.9919 - val_loss: 0.0203 - val_acc: 0.9940\n",
            "Epoch 7/12\n",
            "60000/60000 [==============================] - 228s 4ms/step - loss: 0.0223 - acc: 0.9929 - val_loss: 0.0197 - val_acc: 0.9938\n",
            "Epoch 8/12\n",
            "60000/60000 [==============================] - 229s 4ms/step - loss: 0.0216 - acc: 0.9934 - val_loss: 0.0212 - val_acc: 0.9933\n",
            "Epoch 9/12\n",
            "60000/60000 [==============================] - 228s 4ms/step - loss: 0.0182 - acc: 0.9940 - val_loss: 0.0233 - val_acc: 0.9930\n",
            "Epoch 10/12\n",
            "60000/60000 [==============================] - 229s 4ms/step - loss: 0.0179 - acc: 0.9943 - val_loss: 0.0237 - val_acc: 0.9921\n",
            "Epoch 11/12\n",
            "60000/60000 [==============================] - 228s 4ms/step - loss: 0.0169 - acc: 0.9941 - val_loss: 0.0208 - val_acc: 0.9936\n",
            "Epoch 12/12\n",
            "60000/60000 [==============================] - 227s 4ms/step - loss: 0.0147 - acc: 0.9950 - val_loss: 0.0215 - val_acc: 0.9920\n"
          ],
          "name": "stdout"
        }
      ]
    },
    {
      "metadata": {
        "colab_type": "code",
        "id": "-vG6Xb-iwDCk",
        "outputId": "986b675a-e843-4863-ba27-08b6d8feee06",
        "colab": {
          "base_uri": "https://localhost:8080/",
          "height": 560
        }
      },
      "cell_type": "code",
      "source": [
        "# Evaluating the model\n",
        "score = model_3.evaluate(x_test, y_test, verbose=0) \n",
        "print('Test score:', score[0]) \n",
        "print('Test accuracy:', score[1])\n",
        "\n",
        "# Test and train accuracy of the model\n",
        "model_3_test = score[1]\n",
        "model_3_train = max(history_3.history['acc'])\n",
        "\n",
        "# Plotting Train and Test Loss VS no. of epochs\n",
        "# list of epoch numbers\n",
        "x = list(range(1,epochs+1))\n",
        "\n",
        "# Validation loss\n",
        "vy = history_3.history['val_loss']\n",
        "# Training loss\n",
        "ty = history_3.history['loss']\n",
        "\n",
        "# Calling the function to draw the plot\n",
        "plt_dynamic(x, vy, ty)"
      ],
      "execution_count": 5,
      "outputs": [
        {
          "output_type": "stream",
          "text": [
            "Test score: 0.021451755314664207\n",
            "Test accuracy: 0.992\n"
          ],
          "name": "stdout"
        },
        {
          "output_type": "display_data",
          "data": {
            "image/png": "[encoded data removed]",
            "text/plain": [
              "<Figure size 1080x576 with 1 Axes>"
            ]
          },
          "metadata": {
            "tags": []
          }
        }
      ]
    },
    {
      "metadata": {
        "colab_type": "text",
        "id": "ycMtLLu46qE2"
      },
      "cell_type": "markdown",
      "source": [
        "## (2). CNN with 5 Convolutional layers and kernel size - (5X5)"
      ]
    },
    {
      "metadata": {
        "colab_type": "code",
        "id": "JTVWFRN66z3v",
        "outputId": "416a9357-91ca-4983-ae9e-ca7eebdb0f51",
        "colab": {
          "base_uri": "https://localhost:8080/",
          "height": 1122
        }
      },
      "cell_type": "code",
      "source": [
        "# Initialising the model\n",
        "model_5 = Sequential()\n",
        "\n",
        "# Adding first conv layer\n",
        "model_5.add(Conv2D(8, kernel_size=(5, 5),padding='same',activation='relu',input_shape=input_shape))\n",
        "\n",
        "# Adding second conv layer\n",
        "model_5.add(Conv2D(16, (5, 5), activation='relu'))\n",
        "\n",
        "# Adding Maxpooling layer\n",
        "model_5.add(MaxPooling2D(pool_size=(2, 2),padding='same'))\n",
        "\n",
        "# Adding Dropout\n",
        "model_5.add(Dropout(0.3))\n",
        "\n",
        "# Adding third conv layer\n",
        "model_5.add(Conv2D(32, (5, 5),padding='same', activation='relu'))\n",
        "\n",
        "# Adding Maxpooling layer\n",
        "model_5.add(MaxPooling2D(pool_size=(2, 2),padding='same'))\n",
        "\n",
        "# Adding Dropout\n",
        "model_5.add(Dropout(0.3))\n",
        "\n",
        "# Adding fourth conv layer\n",
        "model_5.add(Conv2D(64, (5, 5),padding='same',activation='relu'))\n",
        "\n",
        "# Adding fifth conv layer\n",
        "model_5.add(Conv2D(64, (5, 5), activation='relu'))\n",
        "\n",
        "# Adding Maxpooling layer\n",
        "model_5.add(MaxPooling2D(pool_size=(2, 2),padding='same'))\n",
        "\n",
        "# Adding Dropout\n",
        "model_5.add(Dropout(0.3))\n",
        "\n",
        "# Adding flatten layer\n",
        "model_5.add(Flatten())\n",
        "\n",
        "# Adding first hidden layer\n",
        "model_5.add(Dense(256, activation='relu',kernel_initializer=he_normal(seed=None)))\n",
        "\n",
        "# Adding Batch Normalization\n",
        "model_5.add(BatchNormalization())\n",
        "\n",
        "# Adding Dropout\n",
        "model_5.add(Dropout(0.3))\n",
        "\n",
        "# Adding output layer\n",
        "model_5.add(Dense(num_classes, activation='softmax'))\n",
        "\n",
        "# Printing model Summary\n",
        "print(model_5.summary())\n",
        "\n",
        "# Compiling the model\n",
        "model_5.compile(optimizer='adam', loss='categorical_crossentropy', metrics=['accuracy'])\n",
        "\n",
        "# Fitting the data to the model\n",
        "history_5 = model_5.fit(x_train, y_train,batch_size=batch_size,epochs=epochs,verbose=1,validation_data=(x_test, y_test))"
      ],
      "execution_count": 6,
      "outputs": [
        {
          "output_type": "stream",
          "text": [
            "_________________________________________________________________\n",
            "Layer (type)                 Output Shape              Param #   \n",
            "=================================================================\n",
            "conv2d_4 (Conv2D)            (None, 28, 28, 8)         208       \n",
            "_________________________________________________________________\n",
            "conv2d_5 (Conv2D)            (None, 24, 24, 16)        3216      \n",
            "_________________________________________________________________\n",
            "max_pooling2d_3 (MaxPooling2 (None, 12, 12, 16)        0         \n",
            "_________________________________________________________________\n",
            "dropout_4 (Dropout)          (None, 12, 12, 16)        0         \n",
            "_________________________________________________________________\n",
            "conv2d_6 (Conv2D)            (None, 12, 12, 32)        12832     \n",
            "_________________________________________________________________\n",
            "max_pooling2d_4 (MaxPooling2 (None, 6, 6, 32)          0         \n",
            "_________________________________________________________________\n",
            "dropout_5 (Dropout)          (None, 6, 6, 32)          0         \n",
            "_________________________________________________________________\n",
            "conv2d_7 (Conv2D)            (None, 6, 6, 64)          51264     \n",
            "_________________________________________________________________\n",
            "conv2d_8 (Conv2D)            (None, 2, 2, 64)          102464    \n",
            "_________________________________________________________________\n",
            "max_pooling2d_5 (MaxPooling2 (None, 1, 1, 64)          0         \n",
            "_________________________________________________________________\n",
            "dropout_6 (Dropout)          (None, 1, 1, 64)          0         \n",
            "_________________________________________________________________\n",
            "flatten_2 (Flatten)          (None, 64)                0         \n",
            "_________________________________________________________________\n",
            "dense_3 (Dense)              (None, 256)               16640     \n",
            "_________________________________________________________________\n",
            "batch_normalization_1 (Batch (None, 256)               1024      \n",
            "_________________________________________________________________\n",
            "dropout_7 (Dropout)          (None, 256)               0         \n",
            "_________________________________________________________________\n",
            "dense_4 (Dense)              (None, 10)                2570      \n",
            "=================================================================\n",
            "Total params: 190,218\n",
            "Trainable params: 189,706\n",
            "Non-trainable params: 512\n",
            "_________________________________________________________________\n",
            "None\n",
            "Train on 60000 samples, validate on 10000 samples\n",
            "Epoch 1/12\n",
            "60000/60000 [==============================] - 135s 2ms/step - loss: 0.4323 - acc: 0.8616 - val_loss: 0.0476 - val_acc: 0.9850\n",
            "Epoch 2/12\n",
            "60000/60000 [==============================] - 135s 2ms/step - loss: 0.1157 - acc: 0.9675 - val_loss: 0.0319 - val_acc: 0.9911\n",
            "Epoch 3/12\n",
            "60000/60000 [==============================] - 135s 2ms/step - loss: 0.0825 - acc: 0.9764 - val_loss: 0.0311 - val_acc: 0.9913\n",
            "Epoch 4/12\n",
            "60000/60000 [==============================] - 135s 2ms/step - loss: 0.0731 - acc: 0.9795 - val_loss: 0.0279 - val_acc: 0.9904\n",
            "Epoch 5/12\n",
            "60000/60000 [==============================] - 135s 2ms/step - loss: 0.0590 - acc: 0.9837 - val_loss: 0.0219 - val_acc: 0.9929\n",
            "Epoch 6/12\n",
            "60000/60000 [==============================] - 135s 2ms/step - loss: 0.0548 - acc: 0.9841 - val_loss: 0.0299 - val_acc: 0.9915\n",
            "Epoch 7/12\n",
            "60000/60000 [==============================] - 136s 2ms/step - loss: 0.0507 - acc: 0.9862 - val_loss: 0.0204 - val_acc: 0.9939\n",
            "Epoch 8/12\n",
            "60000/60000 [==============================] - 135s 2ms/step - loss: 0.0455 - acc: 0.9871 - val_loss: 0.0216 - val_acc: 0.9945\n",
            "Epoch 9/12\n",
            "60000/60000 [==============================] - 135s 2ms/step - loss: 0.0437 - acc: 0.9880 - val_loss: 0.0210 - val_acc: 0.9941\n",
            "Epoch 10/12\n",
            "60000/60000 [==============================] - 135s 2ms/step - loss: 0.0379 - acc: 0.9892 - val_loss: 0.0293 - val_acc: 0.9894\n",
            "Epoch 11/12\n",
            "60000/60000 [==============================] - 135s 2ms/step - loss: 0.0378 - acc: 0.9895 - val_loss: 0.0224 - val_acc: 0.9944\n",
            "Epoch 12/12\n",
            "60000/60000 [==============================] - 135s 2ms/step - loss: 0.0334 - acc: 0.9905 - val_loss: 0.0205 - val_acc: 0.9944\n"
          ],
          "name": "stdout"
        }
      ]
    },
    {
      "metadata": {
        "colab_type": "code",
        "id": "222XEEah_xOa",
        "outputId": "409d93ac-a3dc-457d-b82d-f41a6884d26f",
        "colab": {
          "base_uri": "https://localhost:8080/",
          "height": 560
        }
      },
      "cell_type": "code",
      "source": [
        "# Evaluating the model\n",
        "score = model_5.evaluate(x_test, y_test, verbose=0) \n",
        "print('Test score:', score[0]) \n",
        "print('Test accuracy:', score[1])\n",
        "\n",
        "# Test and train accuracy of the model\n",
        "model_5_test = score[1]\n",
        "model_5_train = max(history_5.history['acc'])\n",
        "\n",
        "# Plotting Train and Test Loss VS no. of epochs\n",
        "# list of epoch numbers\n",
        "x = list(range(1,epochs+1))\n",
        "\n",
        "# Validation loss\n",
        "vy = history_5.history['val_loss']\n",
        "# Training loss\n",
        "ty = history_5.history['loss']\n",
        "\n",
        "# Calling the function to draw the plot\n",
        "plt_dynamic(x, vy, ty)"
      ],
      "execution_count": 7,
      "outputs": [
        {
          "output_type": "stream",
          "text": [
            "Test score: 0.02045143669675963\n",
            "Test accuracy: 0.9944\n"
          ],
          "name": "stdout"
        },
        {
          "output_type": "display_data",
          "data": {
            "image/png": "[encoded data removed]",
            "text/plain": [
              "<Figure size 1080x576 with 1 Axes>"
            ]
          },
          "metadata": {
            "tags": []
          }
        }
      ]
    },
    {
      "metadata": {
        "colab_type": "text",
        "id": "52YmhkNfGDjo"
      },
      "cell_type": "markdown",
      "source": [
        "## (3). CNN with 7 Convolutional layers and kernel size - (2X2)"
      ]
    },
    {
      "metadata": {
        "colab_type": "code",
        "id": "By6oqSzXGMzm",
        "outputId": "82652ee8-dd56-4b88-b240-a05c387139d8",
        "colab": {
          "base_uri": "https://localhost:8080/",
          "height": 1292
        }
      },
      "cell_type": "code",
      "source": [
        "# Initialising the model\n",
        "model_7 = Sequential()\n",
        "\n",
        "# Adding first conv layer\n",
        "model_7.add(Conv2D(32, kernel_size=(2, 2),padding='same',activation='relu',input_shape=input_shape))\n",
        "\n",
        "# Adding second conv layer\n",
        "model_7.add(Conv2D(32, (2, 2), activation='relu'))\n",
        "\n",
        "# Adding Maxpooling layer\n",
        "model_7.add(MaxPooling2D(pool_size=(3, 3), strides=(1,1)))\n",
        "\n",
        "# Adding Dropout\n",
        "model_7.add(Dropout(0.3))\n",
        "\n",
        "# Adding third conv layer\n",
        "model_7.add(Conv2D(64, (2, 2), activation='relu'))\n",
        "\n",
        "# Adding Maxpooling layer\n",
        "model_7.add(MaxPooling2D(pool_size=(2, 2),padding='same'))\n",
        "\n",
        "\n",
        "# Adding fourth conv layer\n",
        "model_7.add(Conv2D(64, (2, 2),padding='same',activation='relu'))\n",
        "\n",
        "# Adding fifth conv layer\n",
        "model_7.add(Conv2D(128, (2, 2), activation='relu'))\n",
        "\n",
        "# Adding Maxpooling layer\n",
        "model_7.add(MaxPooling2D(pool_size=(3, 3),padding='same'))\n",
        "\n",
        "# Adding Dropout\n",
        "model_7.add(Dropout(0.3))\n",
        "\n",
        "# Adding sixth conv layer\n",
        "model_7.add(Conv2D(128, (2, 2),padding='same',activation='relu'))\n",
        "\n",
        "# Adding seventh conv layer\n",
        "model_7.add(Conv2D(256, (2, 2), activation='relu'))\n",
        "\n",
        "# Adding Maxpooling layer\n",
        "model_7.add(MaxPooling2D(pool_size=(2, 2), strides=(1,1)))\n",
        "\n",
        "# Adding Dropout\n",
        "model_7.add(Dropout(0.3))\n",
        "\n",
        "# Adding flatten layer\n",
        "model_7.add(Flatten())\n",
        "\n",
        "# Adding first hidden layer\n",
        "model_7.add(Dense(256, activation='relu',kernel_initializer=he_normal(seed=None)))\n",
        "\n",
        "# Adding Batch Normalization\n",
        "model_7.add(BatchNormalization())\n",
        "\n",
        "# Adding Dropout\n",
        "model_7.add(Dropout(0.3))\n",
        "\n",
        "# Adding second hidden layer\n",
        "model_7.add(Dense(128, activation='relu',kernel_initializer=he_normal(seed=None)))\n",
        "\n",
        "# Adding Dropout\n",
        "model_7.add(Dropout(0.3))\n",
        "\n",
        "# Adding output layer\n",
        "model_7.add(Dense(num_classes, activation='softmax'))\n",
        "\n",
        "# Printing model Summary\n",
        "print(model_7.summary())\n",
        "\n",
        "# Compiling the model\n",
        "model_7.compile(optimizer='adam', loss='categorical_crossentropy', metrics=['accuracy'])\n",
        "\n",
        "# Fitting the data to the model\n",
        "history_7 = model_7.fit(x_train, y_train,batch_size=batch_size,epochs=epochs,verbose=1,validation_data=(x_test, y_test))"
      ],
      "execution_count": 8,
      "outputs": [
        {
          "output_type": "stream",
          "text": [
            "_________________________________________________________________\n",
            "Layer (type)                 Output Shape              Param #   \n",
            "=================================================================\n",
            "conv2d_9 (Conv2D)            (None, 28, 28, 32)        160       \n",
            "_________________________________________________________________\n",
            "conv2d_10 (Conv2D)           (None, 27, 27, 32)        4128      \n",
            "_________________________________________________________________\n",
            "max_pooling2d_6 (MaxPooling2 (None, 25, 25, 32)        0         \n",
            "_________________________________________________________________\n",
            "dropout_8 (Dropout)          (None, 25, 25, 32)        0         \n",
            "_________________________________________________________________\n",
            "conv2d_11 (Conv2D)           (None, 24, 24, 64)        8256      \n",
            "_________________________________________________________________\n",
            "max_pooling2d_7 (MaxPooling2 (None, 12, 12, 64)        0         \n",
            "_________________________________________________________________\n",
            "conv2d_12 (Conv2D)           (None, 12, 12, 64)        16448     \n",
            "_________________________________________________________________\n",
            "conv2d_13 (Conv2D)           (None, 11, 11, 128)       32896     \n",
            "_________________________________________________________________\n",
            "max_pooling2d_8 (MaxPooling2 (None, 4, 4, 128)         0         \n",
            "_________________________________________________________________\n",
            "dropout_9 (Dropout)          (None, 4, 4, 128)         0         \n",
            "_________________________________________________________________\n",
            "conv2d_14 (Conv2D)           (None, 4, 4, 128)         65664     \n",
            "_________________________________________________________________\n",
            "conv2d_15 (Conv2D)           (None, 3, 3, 256)         131328    \n",
            "_________________________________________________________________\n",
            "max_pooling2d_9 (MaxPooling2 (None, 2, 2, 256)         0         \n",
            "_________________________________________________________________\n",
            "dropout_10 (Dropout)         (None, 2, 2, 256)         0         \n",
            "_________________________________________________________________\n",
            "flatten_3 (Flatten)          (None, 1024)              0         \n",
            "_________________________________________________________________\n",
            "dense_5 (Dense)              (None, 256)               262400    \n",
            "_________________________________________________________________\n",
            "batch_normalization_2 (Batch (None, 256)               1024      \n",
            "_________________________________________________________________\n",
            "dropout_11 (Dropout)         (None, 256)               0         \n",
            "_________________________________________________________________\n",
            "dense_6 (Dense)              (None, 128)               32896     \n",
            "_________________________________________________________________\n",
            "dropout_12 (Dropout)         (None, 128)               0         \n",
            "_________________________________________________________________\n",
            "dense_7 (Dense)              (None, 10)                1290      \n",
            "=================================================================\n",
            "Total params: 556,490\n",
            "Trainable params: 555,978\n",
            "Non-trainable params: 512\n",
            "_________________________________________________________________\n",
            "None\n",
            "Train on 60000 samples, validate on 10000 samples\n",
            "Epoch 1/12\n",
            "60000/60000 [==============================] - 295s 5ms/step - loss: 0.4589 - acc: 0.8478 - val_loss: 0.0576 - val_acc: 0.9824\n",
            "Epoch 2/12\n",
            "60000/60000 [==============================] - 295s 5ms/step - loss: 0.0989 - acc: 0.9706 - val_loss: 0.0358 - val_acc: 0.9886\n",
            "Epoch 3/12\n",
            "60000/60000 [==============================] - 294s 5ms/step - loss: 0.0679 - acc: 0.9798 - val_loss: 0.0309 - val_acc: 0.9905\n",
            "Epoch 4/12\n",
            "60000/60000 [==============================] - 294s 5ms/step - loss: 0.0567 - acc: 0.9831 - val_loss: 0.0351 - val_acc: 0.9897\n",
            "Epoch 5/12\n",
            "60000/60000 [==============================] - 293s 5ms/step - loss: 0.0494 - acc: 0.9854 - val_loss: 0.0235 - val_acc: 0.9933\n",
            "Epoch 6/12\n",
            "60000/60000 [==============================] - 293s 5ms/step - loss: 0.0443 - acc: 0.9869 - val_loss: 0.0255 - val_acc: 0.9927\n",
            "Epoch 7/12\n",
            "60000/60000 [==============================] - 297s 5ms/step - loss: 0.0411 - acc: 0.9882 - val_loss: 0.0278 - val_acc: 0.9927\n",
            "Epoch 8/12\n",
            "60000/60000 [==============================] - 296s 5ms/step - loss: 0.0367 - acc: 0.9891 - val_loss: 0.0205 - val_acc: 0.9936\n",
            "Epoch 9/12\n",
            "60000/60000 [==============================] - 297s 5ms/step - loss: 0.0363 - acc: 0.9895 - val_loss: 0.0298 - val_acc: 0.9910\n",
            "Epoch 10/12\n",
            "60000/60000 [==============================] - 297s 5ms/step - loss: 0.0337 - acc: 0.9898 - val_loss: 0.0280 - val_acc: 0.9913\n",
            "Epoch 11/12\n",
            "60000/60000 [==============================] - 294s 5ms/step - loss: 0.0320 - acc: 0.9905 - val_loss: 0.0217 - val_acc: 0.9928\n",
            "Epoch 12/12\n",
            "60000/60000 [==============================] - 293s 5ms/step - loss: 0.0286 - acc: 0.9916 - val_loss: 0.0228 - val_acc: 0.9930\n"
          ],
          "name": "stdout"
        }
      ]
    },
    {
      "metadata": {
        "colab_type": "code",
        "id": "46PovpQCKXXt",
        "outputId": "75240b41-2e44-48a4-90cf-7d64e67467f6",
        "colab": {
          "base_uri": "https://localhost:8080/",
          "height": 560
        }
      },
      "cell_type": "code",
      "source": [
        "# Evaluating the model\n",
        "score = model_7.evaluate(x_test, y_test, verbose=0) \n",
        "print('Test score:', score[0]) \n",
        "print('Test accuracy:', score[1])\n",
        "\n",
        "# Test and train accuracy of the model\n",
        "model_7_test = score[1]\n",
        "model_7_train = max(history_7.history['acc'])\n",
        "\n",
        "# Plotting Train and Test Loss VS no. of epochs\n",
        "# list of epoch numbers\n",
        "x = list(range(1,epochs+1))\n",
        "\n",
        "# Validation loss\n",
        "vy = history_7.history['val_loss']\n",
        "# Training loss\n",
        "ty = history_7.history['loss']\n",
        "\n",
        "# Calling the function to draw the plot\n",
        "plt_dynamic(x, vy, ty)"
      ],
      "execution_count": 9,
      "outputs": [
        {
          "output_type": "stream",
          "text": [
            "Test score: 0.022784425553405162\n",
            "Test accuracy: 0.993\n"
          ],
          "name": "stdout"
        },
        {
          "output_type": "display_data",
          "data": {
            "image/png": "[encoded data removed]",
            "text/plain": [
              "<Figure size 1080x576 with 1 Axes>"
            ]
          },
          "metadata": {
            "tags": []
          }
        }
      ]
    },
    {
      "metadata": {
        "colab_type": "text",
        "id": "b2cFIZ92k2AK"
      },
      "cell_type": "markdown",
      "source": [
        "## CONCLUSION"
      ]
    },
    {
      "metadata": {
        "colab_type": "text",
        "id": "ouV2ZH_ok-uH"
      },
      "cell_type": "markdown",
      "source": [
        "## (a). Procedure Followed :"
      ]
    },
    {
      "metadata": {
        "colab_type": "text",
        "id": "yJR1sNTtlDp2"
      },
      "cell_type": "markdown",
      "source": [
        "1. Load MNIST dataset.\n",
        "2. Split the dataset into train and test.\n",
        "3. Normalize the train and test data.\n",
        "4. Convert class variable into categorical data vector.\n",
        "5. Implement Softmax classifier with  3, 5 and 7 conv layers .\n",
        "6. Use kernel -size (3X3) , (5X5) and (2,2) .\n",
        "7. Draw Categorical Crossentropy Loss VS No.of Epochs plot .\n",
        "\n"
      ]
    },
    {
      "metadata": {
        "colab_type": "text",
        "id": "iXARnqShl475"
      },
      "cell_type": "markdown",
      "source": [
        "## (b) Table (Different models with their train and test accuracies):"
      ]
    },
    {
      "metadata": {
        "colab_type": "code",
        "id": "7DPBIE58l_89",
        "outputId": "964ea235-cb82-4bb5-ee3b-c3c9d5a80c5d",
        "colab": {
          "base_uri": "https://localhost:8080/",
          "height": 136
        }
      },
      "cell_type": "code",
      "source": [
        "from prettytable import PrettyTable\n",
        "    \n",
        "x = PrettyTable()\n",
        "\n",
        "x.field_names = [\"N0__Conv_Layers\", \"Kernel_size\", \"Training Accuracy\", \"Test Accuracy\"]\n",
        "\n",
        "x.add_row([3, \"(3x3)\",0.9929,0.9938])\n",
        "x.add_row([5, \"(5x5)\",0.9892,0.9894])\n",
        "x.add_row([7, \"(2x2)\",0.9898,0.9913])\n",
        "print(x)\n"
      ],
      "execution_count": 10,
      "outputs": [
        {
          "output_type": "stream",
          "text": [
            "+-----------------+-------------+-------------------+---------------+\n",
            "| N0__Conv_Layers | Kernel_size | Training Accuracy | Test Accuracy |\n",
            "+-----------------+-------------+-------------------+---------------+\n",
            "|        3        |    (3x3)    |       0.9929      |     0.9938    |\n",
            "|        5        |    (5x5)    |       0.9892      |     0.9894    |\n",
            "|        7        |    (2x2)    |       0.9898      |     0.9913    |\n",
            "+-----------------+-------------+-------------------+---------------+\n"
          ],
          "name": "stdout"
        }
      ]
    },
    {
      "metadata": {
        "colab_type": "code",
        "id": "TcXUcjLym5x5",
        "colab": {}
      },
      "cell_type": "code",
      "source": [
        ""
      ],
      "execution_count": 0,
      "outputs": []
    }
  ]
}